{
 "cells": [
  {
   "cell_type": "markdown",
   "metadata": {},
   "source": [
    "# Topic Classification with a Feedforward Network\n",
    "\n",
    "The goal of this project is to develop a Feedforward neural network for topic classification. \n",
    "\n",
    "For that purpose, we will implement:\n",
    "\n",
    "- Text processing methods for transforming raw text data into input vectors for the network  \n",
    "\n",
    "- A Feedforward network consisting of:\n",
    "    - **One-hot** input layer mapping words into an **Embedding weight matrix** \n",
    "    - **One hidden layer** computing the mean embedding vector of all words in input followed by a **ReLU activation function** \n",
    "    - **Output layer** with a **softmax** activation. \n",
    "\n",
    "- The Stochastic Gradient Descent (SGD) algorithm with **back-propagation** to learn the weights of the Neural network. The algorithm should:\n",
    "    - Use (and minimise) the **Categorical Cross-entropy loss** function \n",
    "    - Perform a **Forward pass** to compute intermediate outputs \n",
    "    - Perform a **Backward pass** to compute gradients and update all sets of weights \n",
    "    - Implement and use **Dropout** after each hidden layer for regularisation\n",
    "\n",
    "\n",
    "- Discuss how hyperparameters were chosen and use tables or graphs to show training and validation performance for each hyperparameter combination. \n",
    "\n",
    "\n",
    "- After training a model, we plot the learning process (i.e. training and validation loss in each epoch) using a line plot and report accuracy. Does the model overfit, underfit or is about right?\n",
    "\n",
    "\n",
    "\n",
    "- Re-train the network by using pre-trained embeddings ([GloVe](https://nlp.stanford.edu/projects/glove/)) trained on large corpora. Instead of randomly initialising the embedding weights matrix, we initialise it with the pre-trained weights. During training, freeze the weights and report results by performing hyperparameter tuning and plotting the learning process. Do we get better performance?\n",
    "\n",
    "\n",
    "\n",
    "- Extend the Feedforward network by adding more hidden layers and observe how it affects the performance.\n",
    "\n",
    "\n",
    "### Data \n",
    "\n",
    "The data we will use for the task is a subset of the [AG News Corpus](http://groups.di.unipi.it/~gulli/AG_corpus_of_news_articles.html) and we can find it in the `./data` folder in CSV format:\n",
    "\n",
    "- `data/train.csv`: contains 2,400 news articles, 800 for each class to be used for training.\n",
    "- `data/dev.csv`: contains 150 news articles, 50 for each class to be used for hyperparameter selection and monitoring the training process.\n",
    "- `data/test.csv`: contains 900 news articles, 300 for each class to be used for testing.\n",
    "\n",
    "Class 1: Politics, Class 2: Sports, Class 3: Economy\n"
   ]
  },
  {
   "cell_type": "code",
   "execution_count": 1,
   "metadata": {
    "ExecuteTime": {
     "end_time": "2020-04-02T15:00:18.625532Z",
     "start_time": "2020-04-02T15:00:17.377733Z"
    },
    "scrolled": true
   },
   "outputs": [],
   "source": [
    "import pandas as pd\n",
    "import numpy as np\n",
    "from collections import Counter\n",
    "import re\n",
    "import matplotlib.pyplot as plt\n",
    "from sklearn.metrics import accuracy_score, precision_score, recall_score, f1_score\n",
    "import random\n",
    "import zipfile\n",
    "import gc\n",
    "\n",
    "# fixing random seed for reproducibility\n",
    "random.seed(123)\n",
    "np.random.seed(123)\n"
   ]
  },
  {
   "cell_type": "markdown",
   "metadata": {},
   "source": [
    "## Transform Raw texts into training and development data\n",
    "\n",
    "First, you need to load the training, development and test sets from their corresponding CSV files using Pandas dataframes."
   ]
  },
  {
   "cell_type": "code",
   "execution_count": 2,
   "metadata": {
    "ExecuteTime": {
     "end_time": "2020-04-02T14:26:39.748484Z",
     "start_time": "2020-04-02T14:26:39.727404Z"
    },
    "scrolled": true
   },
   "outputs": [
    {
     "data": {
      "text/html": [
       "<div>\n",
       "<style scoped>\n",
       "    .dataframe tbody tr th:only-of-type {\n",
       "        vertical-align: middle;\n",
       "    }\n",
       "\n",
       "    .dataframe tbody tr th {\n",
       "        vertical-align: top;\n",
       "    }\n",
       "\n",
       "    .dataframe thead th {\n",
       "        text-align: right;\n",
       "    }\n",
       "</style>\n",
       "<table border=\"1\" class=\"dataframe\">\n",
       "  <thead>\n",
       "    <tr style=\"text-align: right;\">\n",
       "      <th></th>\n",
       "      <th>class_id</th>\n",
       "      <th>text</th>\n",
       "    </tr>\n",
       "  </thead>\n",
       "  <tbody>\n",
       "    <tr>\n",
       "      <th>0</th>\n",
       "      <td>1</td>\n",
       "      <td>Reuters - South Korean police used water canno...</td>\n",
       "    </tr>\n",
       "    <tr>\n",
       "      <th>1</th>\n",
       "      <td>1</td>\n",
       "      <td>Reuters - Thousands of Palestinian\\prisoners i...</td>\n",
       "    </tr>\n",
       "    <tr>\n",
       "      <th>2</th>\n",
       "      <td>1</td>\n",
       "      <td>AFP - Sporadic gunfire and shelling took place...</td>\n",
       "    </tr>\n",
       "    <tr>\n",
       "      <th>3</th>\n",
       "      <td>1</td>\n",
       "      <td>AP - Dozens of Rwandan soldiers flew into Suda...</td>\n",
       "    </tr>\n",
       "    <tr>\n",
       "      <th>4</th>\n",
       "      <td>1</td>\n",
       "      <td>Reuters - Rwandan troops were airlifted on Sun...</td>\n",
       "    </tr>\n",
       "    <tr>\n",
       "      <th>...</th>\n",
       "      <td>...</td>\n",
       "      <td>...</td>\n",
       "    </tr>\n",
       "    <tr>\n",
       "      <th>2394</th>\n",
       "      <td>3</td>\n",
       "      <td>Australia #39;s dominant airline, Qantas, has ...</td>\n",
       "    </tr>\n",
       "    <tr>\n",
       "      <th>2395</th>\n",
       "      <td>3</td>\n",
       "      <td>Reuters - Medtronic Inc. (MDT.N) on Wednesday\\...</td>\n",
       "    </tr>\n",
       "    <tr>\n",
       "      <th>2396</th>\n",
       "      <td>3</td>\n",
       "      <td>SAN FRANCISCO (Reuters) - Google Inc. &amp;lt;A H...</td>\n",
       "    </tr>\n",
       "    <tr>\n",
       "      <th>2397</th>\n",
       "      <td>3</td>\n",
       "      <td>BHP Billiton, the world #39;s biggest mining c...</td>\n",
       "    </tr>\n",
       "    <tr>\n",
       "      <th>2398</th>\n",
       "      <td>3</td>\n",
       "      <td>Europe’s Frustration Grows as Dollar Hits Anot...</td>\n",
       "    </tr>\n",
       "  </tbody>\n",
       "</table>\n",
       "<p>2399 rows × 2 columns</p>\n",
       "</div>"
      ],
      "text/plain": [
       "      class_id                                               text\n",
       "0            1  Reuters - South Korean police used water canno...\n",
       "1            1  Reuters - Thousands of Palestinian\\prisoners i...\n",
       "2            1  AFP - Sporadic gunfire and shelling took place...\n",
       "3            1  AP - Dozens of Rwandan soldiers flew into Suda...\n",
       "4            1  Reuters - Rwandan troops were airlifted on Sun...\n",
       "...        ...                                                ...\n",
       "2394         3  Australia #39;s dominant airline, Qantas, has ...\n",
       "2395         3  Reuters - Medtronic Inc. (MDT.N) on Wednesday\\...\n",
       "2396         3   SAN FRANCISCO (Reuters) - Google Inc. &lt;A H...\n",
       "2397         3  BHP Billiton, the world #39;s biggest mining c...\n",
       "2398         3  Europe’s Frustration Grows as Dollar Hits Anot...\n",
       "\n",
       "[2399 rows x 2 columns]"
      ]
     },
     "execution_count": 2,
     "metadata": {},
     "output_type": "execute_result"
    }
   ],
   "source": [
    "def read_data(file):\n",
    "    df = pd.read_csv(file) #read csv file into pandas dataframe\n",
    "    df.set_axis(['class_id','text'],axis=1,inplace=True) #add index to dataframe rows\n",
    "    return df\n",
    "\n",
    "df_train = read_data('data/train.csv')\n",
    "df_dev = read_data('data/dev.csv')\n",
    "df_test = read_data('data/test.csv')\n",
    "\n",
    "df_train"
   ]
  },
  {
   "cell_type": "markdown",
   "metadata": {},
   "source": [
    "# Create input representations\n",
    "\n",
    "\n",
    "To train the Feedforward network, we first need to obtain input representations given a vocabulary. One-hot encoding requires large memory capacity. Therefore, we will instead represent documents as lists of vocabulary indices.\n",
    "\n",
    "\n",
    "## Text Pre-Processing Pipeline\n",
    "- tokenise all texts into a list of unigrams (tip: you can re-use the functions from Assignment 1) \n",
    "- remove stop words (using the one provided or one of your preference) \n",
    "- remove unigrams appearing in less than K documents\n",
    "- use the remaining to create a vocabulary of the top-N most frequent unigrams in the entire corpus.\n"
   ]
  },
  {
   "cell_type": "code",
   "execution_count": 3,
   "metadata": {
    "ExecuteTime": {
     "end_time": "2020-04-02T14:26:40.851926Z",
     "start_time": "2020-04-02T14:26:40.847500Z"
    },
    "scrolled": true
   },
   "outputs": [],
   "source": [
    "stop_words = ['a','in','on','at','and','or', \n",
    "              'to', 'the', 'of', 'an', 'by', \n",
    "              'as', 'is', 'was', 'were', 'been', 'be', \n",
    "              'are','for', 'this', 'that', 'these', 'those', 'you', 'i', 'if',\n",
    "             'it', 'he', 'she', 'we', 'they', 'will', 'have', 'has',\n",
    "              'do', 'did', 'can', 'could', 'who', 'which', 'what',\n",
    "              'but', 'not', 'there', 'no', 'does', 'not', 'so', 've', 'their',\n",
    "             'his', 'her', 'they', 'them', 'from', 'with', 'its']\n"
   ]
  },
  {
   "cell_type": "markdown",
   "metadata": {},
   "source": [
    "### Unigram extraction from a document\n",
    "\n",
    "You first need to implement the `extract_ngrams` function. It takes as input:\n",
    "- `x_raw`: a string corresponding to the raw text of a document\n",
    "- `ngram_range`: a tuple of two integers denoting the type of ngrams you want to extract, e.g. (1,2) denotes extracting unigrams and bigrams.\n",
    "- `token_pattern`: a string to be used within a regular expression to extract all tokens. Note that data is already tokenised so you could opt for a simple white space tokenisation.\n",
    "- `stop_words`: a list of stop words\n",
    "- `vocab`: a given vocabulary. It should be used to extract specific features.\n",
    "\n",
    "and returns:\n",
    "\n",
    "- a list of all extracted features.\n"
   ]
  },
  {
   "cell_type": "code",
   "execution_count": 4,
   "metadata": {
    "ExecuteTime": {
     "end_time": "2020-05-11T08:23:17.181553Z",
     "start_time": "2020-05-11T08:23:17.178314Z"
    },
    "scrolled": true
   },
   "outputs": [],
   "source": [
    "def extract_ngrams(x_raw, ngram_range=(1,3), token_pattern=r'\\b[A-Za-z][A-Za-z]+\\b', \n",
    "                   stop_words=[], vocab=set()):\n",
    "    \n",
    "    ngrams=[]\n",
    "    #normalise sentences to lowercase and extract words with pattern of interest\n",
    "    words = re.findall(token_pattern,x_raw.lower())\n",
    "    for n in range(ngram_range[0],ngram_range[1]+1):\n",
    "        for i in range(len(words)-n+1):\n",
    "            ngram=words[i:i+n] #get words within given window\n",
    "            if not set(ngram).intersection(set(stop_words)):\n",
    "                ngrams.append(' '.join(ngram)) #add words as a feature if not a stopword\n",
    "    if vocab:\n",
    "        ngrams=list(set(ngrams).intersection(vocab)) #remove non-vocabulary words\n",
    "    return ngrams"
   ]
  },
  {
   "cell_type": "markdown",
   "metadata": {},
   "source": [
    "### Create a vocabulary of n-grams\n",
    "\n",
    "Then the `get_vocab` function will be used to (1) create a vocabulary of ngrams; (2) count the document frequencies of ngrams; (3) their raw frequency. It takes as input:\n",
    "- `X_raw`: a list of strings each corresponding to the raw text of a document\n",
    "- `ngram_range`: a tuple of two integers denoting the type of ngrams you want to extract, e.g. (1,2) denotes extracting unigrams and bigrams.\n",
    "- `token_pattern`: a string to be used within a regular expression to extract all tokens. Note that data is already tokenised so you could opt for a simple white space tokenisation.\n",
    "- `stop_words`: a list of stop words\n",
    "- `min_df`: keep ngrams with a minimum document frequency.\n",
    "- `keep_topN`: keep top-N more frequent ngrams.\n",
    "\n",
    "and returns:\n",
    "\n",
    "- `vocab`: a set of the n-grams that will be used as features.\n",
    "- `df`: a Counter (or dict) that contains ngrams as keys and their corresponding document frequency as values.\n",
    "- `ngram_counts`: counts of each ngram in vocab\n"
   ]
  },
  {
   "cell_type": "code",
   "execution_count": 5,
   "metadata": {
    "ExecuteTime": {
     "end_time": "2020-04-02T14:26:42.563876Z",
     "start_time": "2020-04-02T14:26:42.557967Z"
    },
    "scrolled": true
   },
   "outputs": [],
   "source": [
    "def get_vocab(X_raw, ngram_range=(1,3), token_pattern=r'\\b[A-Za-z][A-Za-z]+\\b', \n",
    "              min_df=0, keep_topN=0, \n",
    "              stop_words=[]):\n",
    "    \n",
    "    ngram_counts=dict()\n",
    "    vocab=set()\n",
    "    df=dict()\n",
    "    doc_count=0\n",
    "    \n",
    "    for index, row in X_raw.iterrows(): \n",
    "        doc_count+=1 #increment document count for each new sentences\n",
    "        \n",
    "        #get all ngrams from each sentence/document\n",
    "        ngrams = extract_ngrams(x_raw=row[\"text\"],stop_words=stop_words,\\\n",
    "                                ngram_range=ngram_range,token_pattern=token_pattern)\n",
    "        \n",
    "        tokens_in_doc=set()\n",
    "        for token in ngrams:\n",
    "            vocab.add(token) #add ngrams to vocabulary; vocab is a set to avoid duplicates\n",
    "            if token in ngram_counts: #update ngram counter\n",
    "                ngram_counts[token]=ngram_counts[token]+1 \n",
    "            else:\n",
    "                ngram_counts[token]=1\n",
    "            \n",
    "            #update document frequency for tokens\n",
    "            if not token in tokens_in_doc: \n",
    "                if token in df:\n",
    "                    df[token]=df[token]+1 #update count for existing tokens in a document\n",
    "                else:\n",
    "                    df[token]=1 #update count for new tokens in a document\n",
    "                tokens_in_doc.add(token)\n",
    "    \n",
    "    if min_df>0: #keep only ngrams with at least a certain document frequency\n",
    "        ngram_counts=dict([(key, value) for key,value in ngram_counts.iteritems() if df[key]>=min_df])\n",
    "        \n",
    "    if keep_topN>0: #remove ngrams with less than a certain frequency in the vocabulary\n",
    "        ngram_counts=dict(sorted(ngram_counts.items(), key=lambda item: item[1], reverse=True))\n",
    "        import itertools\n",
    "        ngram_counts = dict(itertools.islice(ngram_counts.items(), keep_topN))\n",
    "        vocab = vocab.intersection(ngram_counts.keys())\n",
    "    \n",
    "    return vocab, df, ngram_counts\n"
   ]
  },
  {
   "cell_type": "markdown",
   "metadata": {},
   "source": [
    "Now you should use `get_vocab` to create your vocabulary and get document and raw frequencies of unigrams:"
   ]
  },
  {
   "cell_type": "code",
   "execution_count": 6,
   "metadata": {
    "ExecuteTime": {
     "end_time": "2020-04-02T14:26:43.577997Z",
     "start_time": "2020-04-02T14:26:43.478950Z"
    },
    "scrolled": true
   },
   "outputs": [],
   "source": [
    "vocab,doc_freq,raw_frew=get_vocab(df_train,keep_topN=10000,stop_words=stop_words)"
   ]
  },
  {
   "cell_type": "markdown",
   "metadata": {},
   "source": [
    "Then, you need to create vocabulary id -> word and word -> vocabulary id dictionaries for reference:"
   ]
  },
  {
   "cell_type": "code",
   "execution_count": 7,
   "metadata": {
    "ExecuteTime": {
     "end_time": "2020-04-02T14:26:44.069661Z",
     "start_time": "2020-04-02T14:26:44.065058Z"
    },
    "scrolled": true
   },
   "outputs": [],
   "source": [
    "word_to_vocab_id={x:list(vocab).index(x)  for x in vocab}\n",
    "vocab_id_to_word={list(vocab).index(x):x  for x in vocab}"
   ]
  },
  {
   "cell_type": "markdown",
   "metadata": {},
   "source": [
    "### Convert the list of unigrams  into a list of vocabulary indices"
   ]
  },
  {
   "cell_type": "markdown",
   "metadata": {},
   "source": [
    "Storing actual one-hot vectors into memory for all words in the entire data set is prohibitive. Instead, we will store word indices in the vocabulary and look-up the weight matrix. This is equivalent of doing a dot product between an one-hot vector and the weight matrix. \n",
    "\n",
    "First, represent documents in train, dev and test sets as lists of words in the vocabulary:"
   ]
  },
  {
   "cell_type": "code",
   "execution_count": 8,
   "metadata": {
    "ExecuteTime": {
     "end_time": "2020-04-02T14:26:45.047887Z",
     "start_time": "2020-04-02T14:26:44.920631Z"
    },
    "scrolled": true
   },
   "outputs": [],
   "source": [
    "#extract all vocabulary ngrams from data sets and store as list for each document\n",
    "def convert_to_vocab_list(df):\n",
    "    df = df['text']\n",
    "    df = df.apply(lambda x: extract_ngrams(x,stop_words=stop_words,vocab=vocab))\n",
    "    return df\n",
    "\n",
    "train_vocab_df=convert_to_vocab_list(df_train)\n",
    "dev_vocab_df=convert_to_vocab_list(df_dev)\n",
    "test_vocab_df=convert_to_vocab_list(df_test)\n"
   ]
  },
  {
   "cell_type": "markdown",
   "metadata": {},
   "source": [
    "Then convert them into lists of indices in the vocabulary:"
   ]
  },
  {
   "cell_type": "code",
   "execution_count": 9,
   "metadata": {
    "ExecuteTime": {
     "end_time": "2020-04-02T14:26:45.752658Z",
     "start_time": "2020-04-02T14:26:45.730409Z"
    },
    "scrolled": true
   },
   "outputs": [],
   "source": [
    "#convert all vocabulary ngrams to vocabulary indices for each document\n",
    "def vocab_list_to_index(df):\n",
    "    df = df.apply(lambda vocab_list: np.array([word_to_vocab_id[word] for word in vocab_list]))\n",
    "    return list(df.to_numpy())\n",
    "\n",
    "X_tr=vocab_list_to_index(train_vocab_df)\n",
    "X_dev=vocab_list_to_index(dev_vocab_df)\n",
    "X_test=vocab_list_to_index(test_vocab_df)\n"
   ]
  },
  {
   "cell_type": "markdown",
   "metadata": {},
   "source": [
    "Put the labels `Y` for train, dev and test sets into arrays: "
   ]
  },
  {
   "cell_type": "code",
   "execution_count": 10,
   "metadata": {
    "ExecuteTime": {
     "end_time": "2020-04-02T15:03:13.183996Z",
     "start_time": "2020-04-02T15:03:13.077575Z"
    },
    "scrolled": true
   },
   "outputs": [],
   "source": [
    "#convert data labels into one-hot encodings per class to calculate categorical loss\n",
    "def encode_labels(df):\n",
    "    classes=df['class_id'].to_numpy() - 1 #subtract one from class to get active index \n",
    "    encodings=np.zeros((len(df),3), dtype=int)\n",
    "    encodings[np.arange(len(df)),classes]=1\n",
    "    return list(encodings)\n",
    "\n",
    "Y_tr=encode_labels(df_train)\n",
    "Y_dev=encode_labels(df_dev)\n",
    "\n",
    "#test labels are not one-hot encoded for predictions later\n",
    "Y_test=list(df_test['class_id'])"
   ]
  },
  {
   "cell_type": "markdown",
   "metadata": {},
   "source": [
    "# Network Architecture\n",
    "\n",
    "Your network should pass each word index into its corresponding embedding by looking-up on the embedding matrix and then compute the first hidden layer $\\mathbf{h}_1$:\n",
    "\n",
    "$$\\mathbf{h}_1 = \\frac{1}{|x|}\\sum_i W^e_i, i \\in x$$\n",
    "\n",
    "where $|x|$ is the number of words in the document and $W^e$ is an embedding matrix $|V|\\times d$, $|V|$ is the size of the vocabulary and $d$ the embedding size.\n",
    "\n",
    "Then $\\mathbf{h}_1$ should be passed through a ReLU activation function:\n",
    "\n",
    "$$\\mathbf{a}_1 = relu(\\mathbf{h}_1)$$\n",
    "\n",
    "Finally the hidden layer is passed to the output layer:\n",
    "\n",
    "\n",
    "$$\\mathbf{y} = \\text{softmax}(\\mathbf{a}_1W) $$ \n",
    "where $W$ is a matrix $d \\times |{\\cal Y}|$, $|{\\cal Y}|$ is the number of classes.\n",
    "\n",
    "During training, $\\mathbf{a}_1$ should be multiplied with a dropout mask vector (elementwise) for regularisation before it is passed to the output layer.\n",
    "\n",
    "You can extend to a deeper architecture by passing a hidden layer to another one:\n",
    "\n",
    "$$\\mathbf{h_i} = \\mathbf{a}_{i-1}W_i $$\n",
    "\n",
    "$$\\mathbf{a_i} = relu(\\mathbf{h_i}) $$\n",
    "\n"
   ]
  },
  {
   "cell_type": "markdown",
   "metadata": {},
   "source": [
    "# Network Training\n",
    "\n",
    "First we need to define the parameters of our network by initiliasing the weight matrices. For that purpose, you should implement the `network_weights` function that takes as input:\n",
    "\n",
    "- `vocab_size`: the size of the vocabulary\n",
    "- `embedding_dim`: the size of the word embeddings\n",
    "- `hidden_dim`: a list of the sizes of any subsequent hidden layers. Empty if there are no hidden layers between the average embedding and the output layer \n",
    "- `num_classes`: the number of the classes for the output layer\n",
    "\n",
    "and returns:\n",
    "\n",
    "- `W`: a dictionary mapping from layer index (e.g. 0 for the embedding matrix) to the corresponding weight matrix initialised with small random numbers (hint: use numpy.random.uniform with from -0.1 to 0.1)\n",
    "\n",
    "Make sure that the dimensionality of each weight matrix is compatible with the previous and next weight matrix, otherwise you won't be able to perform forward and backward passes. Consider also using np.float32 precision to save memory."
   ]
  },
  {
   "cell_type": "code",
   "execution_count": 11,
   "metadata": {
    "ExecuteTime": {
     "end_time": "2020-04-02T15:41:20.918617Z",
     "start_time": "2020-04-02T15:41:20.915597Z"
    },
    "scrolled": true
   },
   "outputs": [],
   "source": [
    "def network_weights(vocab_size=1000, embedding_dim=300, \n",
    "                    hidden_dim=[], num_classes=3, init_val = 0.5):\n",
    "    \n",
    "    #initialize weights dict\n",
    "    W=dict()\n",
    "    \n",
    "    #append input and output layer dimensions with hidden layer dimensions\n",
    "    hidden_dim.insert(0,embedding_dim)\n",
    "    hidden_dim.insert(0,vocab_size)\n",
    "    hidden_dim.append(num_classes)\n",
    "    \n",
    "    for n in range(len(hidden_dim)-1):\n",
    "        #initialize weights w.r.t. the number of nodes in adjacent layers\n",
    "        W[n]=np.random.uniform(-0.1,0.1,(hidden_dim[n],hidden_dim[n+1])) \n",
    "\n",
    "    return W\n",
    "    "
   ]
  },
  {
   "cell_type": "code",
   "execution_count": 12,
   "metadata": {
    "ExecuteTime": {
     "end_time": "2020-04-02T14:26:48.636732Z",
     "start_time": "2020-04-02T14:26:48.634122Z"
    },
    "scrolled": true
   },
   "outputs": [
    {
     "name": "stdout",
     "output_type": "stream",
     "text": [
      "0 : (3, 4)\n",
      "1 : (4, 2)\n",
      "2 : (2, 2)\n"
     ]
    }
   ],
   "source": [
    "W = network_weights(vocab_size=3,embedding_dim=4,hidden_dim=[2], num_classes=2)\n",
    "\n",
    "for i,j in W.items():\n",
    "    print(i,\":\", j.shape)"
   ]
  },
  {
   "cell_type": "markdown",
   "metadata": {
    "ExecuteTime": {
     "end_time": "2020-04-01T10:31:57.970152Z",
     "start_time": "2020-04-01T10:31:57.966123Z"
    }
   },
   "source": [
    "Then you need to develop a `softmax` function (same as in Assignment 1) to be used in the output layer. \n",
    "\n",
    "It takes as input `z` (array of real numbers) and returns `sig` (the softmax of `z`)\n",
    "\n"
   ]
  },
  {
   "cell_type": "code",
   "execution_count": 13,
   "metadata": {},
   "outputs": [],
   "source": [
    "#compute softmax per layer \n",
    "\n",
    "def softmax(z):\n",
    "    z_exp = np.exp(z)\n",
    "    sig = z_exp/np.sum(z_exp)\n",
    "    return sig\n"
   ]
  },
  {
   "cell_type": "markdown",
   "metadata": {},
   "source": [
    "Now you need to implement the categorical cross entropy loss by slightly modifying the function from Assignment 1 to depend only on the true label `y` and the class probabilities vector `y_preds`:\n"
   ]
  },
  {
   "cell_type": "code",
   "execution_count": 14,
   "metadata": {
    "ExecuteTime": {
     "end_time": "2020-04-02T14:26:51.360838Z",
     "start_time": "2020-04-02T14:26:51.356935Z"
    },
    "scrolled": true
   },
   "outputs": [],
   "source": [
    "#compute cross entropy loss for output layers\n",
    "\n",
    "def categorical_loss(y, y_preds):\n",
    "    l = -np.dot(y,np.log(y_preds + 1e-20)) #1e-20 is a scaling factor against taking the log of 0 values\n",
    "    return l"
   ]
  },
  {
   "cell_type": "markdown",
   "metadata": {
    "ExecuteTime": {
     "end_time": "2020-03-31T15:02:56.149535Z",
     "start_time": "2020-03-31T15:02:56.145738Z"
    }
   },
   "source": [
    "Then, implement the `relu` function to introduce non-linearity after each hidden layer of your network \n",
    "(during the forward pass): \n",
    "\n",
    "$$relu(z_i)= max(z_i,0)$$\n",
    "\n",
    "and the `relu_derivative` function to compute its derivative (used in the backward pass):\n",
    "\n",
    "  \n",
    "  relu_derivative($z_i$)=0, if $z_i$<=0, 1 otherwise.\n",
    "  \n",
    "\n",
    "\n",
    "Note that both functions take as input a vector $z$ \n",
    "\n",
    "We use .copy() to avoid in place changes in array z"
   ]
  },
  {
   "cell_type": "code",
   "execution_count": 15,
   "metadata": {
    "ExecuteTime": {
     "end_time": "2020-04-02T14:26:52.665236Z",
     "start_time": "2020-04-02T14:26:52.661519Z"
    },
    "scrolled": true
   },
   "outputs": [],
   "source": [
    "#compute relu for each layer-wise\n",
    "def relu(z):\n",
    "    a = np.fmax(z,np.zeros_like(z))\n",
    "    return a\n",
    "\n",
    "#compute the derivate layer-wise\n",
    "def relu_derivative(z):\n",
    "    z_copy = z.copy()\n",
    "    rd=relu(z_copy)\n",
    "    dz=np.where(rd<=0.,0,1)\n",
    "    return dz"
   ]
  },
  {
   "cell_type": "markdown",
   "metadata": {},
   "source": [
    "During training you should also apply a dropout mask element-wise after the activation function (i.e. vector of ones with a random percentage set to zero). The `dropout_mask` function takes as input:\n",
    "\n",
    "- `size`: the size of the vector that we want to apply dropout\n",
    "- `dropout_rate`: the percentage of elements that will be randomly set to zeros\n",
    "\n",
    "and returns:\n",
    "\n",
    "- `dropout_vec`: a vector with binary values (0 or 1)"
   ]
  },
  {
   "cell_type": "code",
   "execution_count": 16,
   "metadata": {
    "ExecuteTime": {
     "end_time": "2020-04-02T14:26:53.429192Z",
     "start_time": "2020-04-02T14:26:53.425301Z"
    },
    "scrolled": true
   },
   "outputs": [],
   "source": [
    "#compute dropout mask layer-wise\n",
    "def dropout_mask(size, dropout_rate):\n",
    "    zero_idx = set()\n",
    "    dropout_vec = np.ones((size,))\n",
    "\n",
    "    while len(zero_idx) < dropout_rate*size:\n",
    "        idx = random.randint(0, size-1)\n",
    "        if idx not in zero_idx:\n",
    "            zero_idx.add(idx)\n",
    "            dropout_vec[idx] = 0\n",
    "    return dropout_vec\n",
    "    "
   ]
  },
  {
   "cell_type": "code",
   "execution_count": 17,
   "metadata": {
    "ExecuteTime": {
     "end_time": "2020-04-02T14:26:53.853632Z",
     "start_time": "2020-04-02T14:26:53.849944Z"
    },
    "scrolled": true
   },
   "outputs": [
    {
     "name": "stdout",
     "output_type": "stream",
     "text": [
      "[1 1 1 1 1 1 1 1 1 1]\n",
      "[1 1 1 1 1 1 1 1 1 1]\n"
     ]
    }
   ],
   "source": [
    "print(dropout_mask(10, 0.2))\n",
    "print(dropout_mask(10, 0.2))"
   ]
  },
  {
   "cell_type": "markdown",
   "metadata": {},
   "source": [
    "Now you need to implement the `forward_pass` function that passes the input x through the network up to the output layer for computing the probability for each class using the weight matrices in `W`. The ReLU activation function should be applied on each hidden layer. \n",
    "\n",
    "- `x`: a list of vocabulary indices each corresponding to a word in the document (input)\n",
    "- `W`: a list of weight matrices connecting each part of the network, e.g. for a network with a hidden and an output layer: W[0] is the weight matrix that connects the input to the first hidden layer, W[1] is the weight matrix that connects the hidden layer to the output layer.\n",
    "- `dropout_rate`: the dropout rate that is used to generate a random dropout mask vector applied after each hidden layer for regularisation.\n",
    "\n",
    "and returns:\n",
    "\n",
    "- `out_vals`: a dictionary of output values from each layer: h (the vector before the activation function), a (the resulting vector after passing h from the activation function), its dropout mask vector; and the prediction vector (probability for each class) from the output layer."
   ]
  },
  {
   "cell_type": "code",
   "execution_count": 18,
   "metadata": {
    "ExecuteTime": {
     "end_time": "2020-04-02T14:26:54.761268Z",
     "start_time": "2020-04-02T14:26:54.753402Z"
    },
    "scrolled": true
   },
   "outputs": [],
   "source": [
    "def forward_pass(x, W, dropout_rate=0.2):\n",
    "    \n",
    "    out_vals = {}\n",
    "    \n",
    "    h_vecs = []\n",
    "    a_vecs = []\n",
    "    dropout_vecs = []\n",
    "\n",
    "    for layer,weights in W.items():\n",
    "        if layer==0: #compute embedding layer by summing active indices in the input vector\n",
    "            h=np.zeros(W[0].shape[1])\n",
    "            for idx in x:\n",
    "                h+=W[0][idx]\n",
    "        else:\n",
    "            a=a*d #apply dropout mask to the activation from the previous layer\n",
    "            h=weights.T@a #multiply previous layer nodes with weights for the next layer to compute the next layer\n",
    "        \n",
    "        a=relu(h) #apply relu activation to a layer\n",
    "        d=dropout_mask(a.shape,dropout_rate) #generate dropout mask for a layer\n",
    "        \n",
    "        a_vecs.append(a)\n",
    "        dropout_vecs.append(d)\n",
    "        h_vecs.append(h)\n",
    "    \n",
    "    y=softmax(a) #apply softmax to final (output) layer\n",
    "    #update dictionary\n",
    "    out_vals['h']=h_vecs\n",
    "    out_vals['a']=a_vecs\n",
    "    out_vals['d']=dropout_vecs\n",
    "    out_vals['y']=y \n",
    "    \n",
    "    return out_vals"
   ]
  },
  {
   "cell_type": "markdown",
   "metadata": {},
   "source": [
    "The `backward_pass` function computes the gradients and updates the weights for each matrix in the network from the output to the input. It takes as input \n",
    "\n",
    "- `x`: a list of vocabulary indices each corresponding to a word in the document (input)\n",
    "- `y`: the true label\n",
    "- `W`: a list of weight matrices connecting each part of the network, e.g. for a network with a hidden and an output layer: W[0] is the weight matrix that connects the input to the first hidden layer, W[1] is the weight matrix that connects the hidden layer to the output layer.\n",
    "- `out_vals`: a dictionary of output values from a forward pass.\n",
    "- `learning_rate`: the learning rate for updating the weights.\n",
    "- `freeze_emb`: boolean value indicating whether the embedding weights will be updated.\n",
    "\n",
    "and returns:\n",
    "\n",
    "- `W`: the updated weights of the network.\n",
    "\n",
    "Hint: the gradients on the output layer are similar to the multiclass logistic regression."
   ]
  },
  {
   "cell_type": "code",
   "execution_count": 19,
   "metadata": {
    "ExecuteTime": {
     "end_time": "2020-05-11T08:24:13.732705Z",
     "start_time": "2020-05-11T08:24:13.729741Z"
    },
    "scrolled": true
   },
   "outputs": [],
   "source": [
    "def backward_pass(x, y, W, out_vals, lr=0.001, freeze_emb=False):\n",
    "\n",
    "    W_rev = dict(reversed(list(W.items()))) #reverse the weight dictionary\n",
    "    \n",
    "    grad={} #dictionary of gradients, emptied each time backward pass is performed\n",
    "    g=out_vals['y']-y #derivative of the loss function w.r.t. the final/output layer with the softmax function\n",
    "    for layer,weights in W_rev.items():\n",
    "        if layer-1>=0: #for intermediate layers\n",
    "            \n",
    "            #derivate of a layer before activation function applying chain rule\n",
    "            g=g.flatten()*relu_derivative(out_vals['h'][layer]) \n",
    "            \n",
    "            #derivate of the loss function w.r.t. layer weights applying chain rule\n",
    "            grad[layer]=out_vals['a'][layer-1].reshape(-1,1)@g.reshape(1,-1) \n",
    "            \n",
    "            #derivative of the loss function w.r.t. hidden layers\n",
    "            g=g.reshape(1,-1)@weights.T \n",
    "        \n",
    "        else:\n",
    "            if not freeze_emb:\n",
    "                #compute embedding layer gradients\n",
    "                w = np.zeros((W[0].shape))\n",
    "                for idx in x:\n",
    "                    w[idx]=g.reshape(1,-1)\n",
    "                grad[0]=w\n",
    "            else: #keep embedding layer gradients as 0 so as not to update\n",
    "                grad[0]=np.zeros_like(W[0])\n",
    "\n",
    "    for layer,weights in W.items(): #subtract computed gradients from current weights w.r.t. to learning rate\n",
    "        W[layer] = W[layer]-lr*grad[layer]\n",
    "        \n",
    "    return W\n"
   ]
  },
  {
   "cell_type": "markdown",
   "metadata": {
    "ExecuteTime": {
     "end_time": "2020-02-15T14:08:59.937442Z",
     "start_time": "2020-02-15T14:08:59.932221Z"
    }
   },
   "source": [
    "Finally you need to modify SGD to support back-propagation by using the `forward_pass` and `backward_pass` functions.\n",
    "\n",
    "The `SGD` function takes as input:\n",
    "\n",
    "- `X_tr`: array of training data (vectors)\n",
    "- `Y_tr`: labels of `X_tr`\n",
    "- `W`: the weights of the network (dictionary)\n",
    "- `X_dev`: array of development (i.e. validation) data (vectors)\n",
    "- `Y_dev`: labels of `X_dev`\n",
    "- `lr`: learning rate\n",
    "- `dropout`: regularisation strength\n",
    "- `epochs`: number of full passes over the training data\n",
    "- `tolerance`: stop training if the difference between the current and previous validation loss is smaller than a threshold\n",
    "- `freeze_emb`: boolean value indicating whether the embedding weights will be updated (to be used by the backward pass function).\n",
    "- `print_progress`: flag for printing the training progress (train/validation loss)\n",
    "\n",
    "\n",
    "and returns:\n",
    "\n",
    "- `weights`: the weights learned\n",
    "- `training_loss_history`: an array with the average losses of the whole training set after each epoch\n",
    "- `validation_loss_history`: an array with the average losses of the whole development set after each epoch"
   ]
  },
  {
   "cell_type": "code",
   "execution_count": 20,
   "metadata": {
    "ExecuteTime": {
     "end_time": "2020-04-02T15:09:19.021428Z",
     "start_time": "2020-04-02T15:09:19.017835Z"
    },
    "scrolled": true
   },
   "outputs": [],
   "source": [
    "def SGD(X_tr, Y_tr, W, X_dev=[], Y_dev=[], lr=0.001, \n",
    "        dropout=0.2, epochs=5, tolerance=0.001, freeze_emb=False, \n",
    "        print_progress=True):\n",
    "    \n",
    "    training_loss_history=[]\n",
    "    validation_loss_history=[]\n",
    "    \n",
    "    random.seed(123)\n",
    "    \n",
    "    for e in range(epochs): #iterate through all data instances for each epoch\n",
    "        \n",
    "        running_loss_tr=0 #initialize training loss for each epoch\n",
    "        \n",
    "        #shuffle train data\n",
    "        tr_shuf = list(zip(X_tr,Y_tr))\n",
    "        random.shuffle(tr_shuf)\n",
    "        X_tr,Y_tr=zip(*tr_shuf)\n",
    "        \n",
    "        #train model\n",
    "        for i in range(len(X_tr)):\n",
    "            #perform forward pass\n",
    "            out_vals=forward_pass(X_tr[i], W, dropout_rate=dropout)\n",
    "            #perform backward pass and adjust gradients \n",
    "            W = backward_pass(X_tr[i], Y_tr[i], W, out_vals=out_vals, lr=lr, freeze_emb=freeze_emb)\n",
    "            #compute cross entropy loss for output layer and sum up\n",
    "            running_loss_tr+=categorical_loss(Y_tr[i], out_vals['y'])\n",
    "        #calculate average cross entropy loss for each epoch\n",
    "        loss=(running_loss_tr/len(X_tr))\n",
    "        print(\"Epoch: %i \\t Train Loss: %.5f\"%(e+1, loss))\n",
    "        training_loss_history.append(loss)\n",
    "        \n",
    "        running_loss_dev=0 #initialize validation loss for each epoch\n",
    "        \n",
    "        #shuffle valid data\n",
    "        dev_shuf = list(zip(X_dev,Y_dev))\n",
    "        random.shuffle(dev_shuf)\n",
    "        X_dev,Y_dev=zip(*dev_shuf)\n",
    "        \n",
    "        #validate model by making predctions on validation set\n",
    "        for i in range(len(X_dev)):\n",
    "            out_vals=forward_pass(X_dev[i], W, dropout_rate=dropout)\n",
    "            running_loss_dev+=categorical_loss(Y_dev[i], out_vals['y'])\n",
    "        #calculate average cross entropy loss for each epoch\n",
    "        loss=(running_loss_dev/len(X_dev))\n",
    "        print(\"Epoch: %i \\t Validation Loss: %.5f\"%(e+1, loss))\n",
    "        validation_loss_history.append(loss)\n",
    "        \n",
    "        val_loss_diff=1 #initalize validation loss difference with a large value\n",
    "        if len(validation_loss_history)>1:\n",
    "            #calculate validation loss difference by subtracting\n",
    "            val_loss_diff=abs(validation_loss_history[-2]-validation_loss_history[-1])\n",
    "        \n",
    "        #stop training if validation loss difference is below the threshold\n",
    "        if val_loss_diff<tolerance:\n",
    "            break\n",
    "        \n",
    "    return W, training_loss_history, validation_loss_history\n"
   ]
  },
  {
   "cell_type": "markdown",
   "metadata": {
    "ExecuteTime": {
     "end_time": "2020-02-15T14:10:15.772383Z",
     "start_time": "2020-02-15T14:10:15.767855Z"
    }
   },
   "source": [
    "Now you are ready to train and evaluate your neural net. First, you need to define your network using the `network_weights` function followed by SGD with backprop:"
   ]
  },
  {
   "cell_type": "code",
   "execution_count": 21,
   "metadata": {
    "ExecuteTime": {
     "end_time": "2020-04-02T15:09:33.643515Z",
     "start_time": "2020-04-02T15:09:33.640943Z"
    },
    "scrolled": true
   },
   "outputs": [
    {
     "name": "stdout",
     "output_type": "stream",
     "text": [
      "Shape W0 (46969, 120)\n",
      "Shape W1 (120, 3)\n",
      "Epoch: 1 \t Train Loss: 0.80102\n",
      "Epoch: 1 \t Validation Loss: 0.59110\n",
      "Epoch: 2 \t Train Loss: 0.29265\n",
      "Epoch: 2 \t Validation Loss: 0.42161\n",
      "Epoch: 3 \t Train Loss: 0.11504\n",
      "Epoch: 3 \t Validation Loss: 0.35435\n",
      "Epoch: 4 \t Train Loss: 0.06087\n",
      "Epoch: 4 \t Validation Loss: 0.35107\n",
      "Epoch: 5 \t Train Loss: 0.04041\n",
      "Epoch: 5 \t Validation Loss: 0.33347\n"
     ]
    }
   ],
   "source": [
    "#initialize network weights\n",
    "W = network_weights(vocab_size=len(vocab),embedding_dim=120,\n",
    "                    hidden_dim=[], num_classes=3)\n",
    "\n",
    "#layer dimensions\n",
    "for i in range(len(W)):\n",
    "    print('Shape W'+str(i), W[i].shape)\n",
    "\n",
    "\n",
    "epochs = 5\n",
    "\n",
    "W, loss_tr, dev_loss = SGD(X_tr, Y_tr,\n",
    "                            W,\n",
    "                            X_dev=X_dev, \n",
    "                            Y_dev=Y_dev,\n",
    "                            lr=0.01, \n",
    "                            dropout=0.1,\n",
    "                            freeze_emb=False,\n",
    "                            tolerance=1e-6,\n",
    "                            epochs=epochs)\n"
   ]
  },
  {
   "cell_type": "markdown",
   "metadata": {},
   "source": [
    "Plot the learning process:"
   ]
  },
  {
   "cell_type": "code",
   "execution_count": 22,
   "metadata": {
    "ExecuteTime": {
     "end_time": "2020-04-02T14:27:15.716497Z",
     "start_time": "2020-04-02T14:27:15.612736Z"
    },
    "scrolled": true
   },
   "outputs": [
    {
     "data": {
      "image/png": "[encoded data removed]",
      "text/plain": [
       "<Figure size 432x288 with 1 Axes>"
      ]
     },
     "metadata": {
      "needs_background": "light"
     },
     "output_type": "display_data"
    }
   ],
   "source": [
    "def plot_loss(loss_tr,dev_loss):\n",
    "    x_ax = [i for i in range(1, len(loss_tr)+1)]\n",
    "    \n",
    "    plt.plot(x_ax,loss_tr,label='Train Loss')\n",
    "    plt.plot(x_ax,dev_loss,label='Validation Loss')\n",
    "    plt.legend()\n",
    "    plt.xticks(x_ax)\n",
    "    plt.xlabel(\"Epochs\")\n",
    "    plt.ylabel(\"Categorical Cross Entropy Loss\")\n",
    "    plt.show()\n",
    "    \n",
    "    return\n",
    "\n",
    "#plot\n",
    "plot_loss(loss_tr,dev_loss)"
   ]
  },
  {
   "cell_type": "markdown",
   "metadata": {},
   "source": [
    "Compute accuracy, precision, recall and F1-Score:"
   ]
  },
  {
   "cell_type": "code",
   "execution_count": 23,
   "metadata": {
    "ExecuteTime": {
     "end_time": "2020-04-02T15:10:11.037495Z",
     "start_time": "2020-04-02T15:10:11.034999Z"
    },
    "scrolled": true
   },
   "outputs": [
    {
     "name": "stdout",
     "output_type": "stream",
     "text": [
      "Accuracy: 0.8542825361512792\n",
      "Precision: 0.8551011528512942\n",
      "Recall: 0.854247491638796\n",
      "F1-Score: 0.8538293762746418\n"
     ]
    }
   ],
   "source": [
    "preds_te = [np.argmax(forward_pass(x, W, dropout_rate=0.0)['y'])+1 \n",
    "            for x,y in zip(X_test,Y_test)]\n",
    "\n",
    "print('Accuracy:', accuracy_score(Y_test,preds_te))\n",
    "print('Precision:', precision_score(Y_test,preds_te,average='macro'))\n",
    "print('Recall:', recall_score(Y_test,preds_te,average='macro'))\n",
    "print('F1-Score:', f1_score(Y_test,preds_te,average='macro'))"
   ]
  },
  {
   "cell_type": "code",
   "execution_count": 24,
   "metadata": {},
   "outputs": [
    {
     "name": "stdout",
     "output_type": "stream",
     "text": [
      "Errors per class: 53 22 56\n"
     ]
    }
   ],
   "source": [
    "#count number of misclassifications per class\n",
    "def count_errors(preds_te):\n",
    "    c1=0\n",
    "    c2=0\n",
    "    c3=0\n",
    "    for i in range(len(Y_test)):\n",
    "        if preds_te[i] == Y_test[i]:\n",
    "            continue\n",
    "        else:\n",
    "            if Y_test[i] == 1:\n",
    "                c1+=1\n",
    "            elif Y_test[i] == 2:\n",
    "                c2+=1\n",
    "            elif Y_test[i] == 3:\n",
    "                c3+=1\n",
    "    print(\"Errors per class:\", c1,c2,c3) \n",
    "    \n",
    "count_errors(preds_te)"
   ]
  },
  {
   "cell_type": "markdown",
   "metadata": {},
   "source": [
    "### Discuss how did you choose model hyperparameters ? "
   ]
  },
  {
   "cell_type": "markdown",
   "metadata": {
    "scrolled": true
   },
   "source": [
    "ANSWER: Model hyperparameters were tuned via trial and error. Higher embedding dimension sizes and more epochs result in lower training and validation loss. However, due to time constraints on the running time for the notebook, smaller values were selected. Further, a very small learning rate slows down the model from convergence. From the plotting of the train and validation loss, and the few number of training epochs, the model neither overfits nor underfits.\n",
    "\n",
    "\n",
    "**Note**: All models were trained for 5 epochs\n",
    "\n",
    "\n",
    "| Learning Rate | Embedding Size | Dropout Rate | Accuracy |\n",
    "| --- | --- | --- | --- |\n",
    "| 0.0001 | 80 | 0.4 | 0.37263\n",
    "| 0.001 | 90 | 0.2 | 0.62958\n",
    "| 0.01 | 120 | 0.1 | 0.85428"
   ]
  },
  {
   "cell_type": "markdown",
   "metadata": {},
   "source": [
    "# Use Pre-trained Embeddings\n",
    "\n",
    "Now re-train the network using GloVe pre-trained embeddings."
   ]
  },
  {
   "cell_type": "code",
   "execution_count": 25,
   "metadata": {
    "ExecuteTime": {
     "end_time": "2020-04-02T14:27:32.020697Z",
     "start_time": "2020-04-02T14:27:32.015733Z"
    },
    "scrolled": true
   },
   "outputs": [],
   "source": [
    "def get_glove_embeddings(f_zip, f_txt, word2id, emb_size=300):\n",
    "    \n",
    "    w_emb = np.zeros((len(word2id), emb_size))\n",
    "    \n",
    "    with zipfile.ZipFile(f_zip) as z:\n",
    "        with z.open(f_txt) as f:\n",
    "            for line in f:\n",
    "                line = line.decode('utf-8')\n",
    "                word = line.split()[0]\n",
    "                     \n",
    "                if word in vocab:\n",
    "                    emb = np.array(line.strip('\\n').split()[1:]).astype(np.float32)\n",
    "                    w_emb[word2id[word]] +=emb\n",
    "    return w_emb"
   ]
  },
  {
   "cell_type": "code",
   "execution_count": 26,
   "metadata": {
    "ExecuteTime": {
     "end_time": "2020-04-02T14:28:54.548613Z",
     "start_time": "2020-04-02T14:27:32.780248Z"
    },
    "scrolled": true
   },
   "outputs": [],
   "source": [
    "w_glove = get_glove_embeddings(\"glove.840B.300d.zip\",\"glove.840B.300d.txt\",word_to_vocab_id)"
   ]
  },
  {
   "cell_type": "code",
   "execution_count": 27,
   "metadata": {},
   "outputs": [
    {
     "data": {
      "text/plain": [
       "(46969, 300)"
      ]
     },
     "execution_count": 27,
     "metadata": {},
     "output_type": "execute_result"
    }
   ],
   "source": [
    "w_glove.shape"
   ]
  },
  {
   "cell_type": "markdown",
   "metadata": {},
   "source": [
    "First, initialise the weights of your network using the `network_weights` function. Second, replace the weigths of the embedding matrix with `w_glove`. Finally, train the network by freezing the embedding weights: "
   ]
  },
  {
   "cell_type": "code",
   "execution_count": 28,
   "metadata": {
    "ExecuteTime": {
     "end_time": "2020-04-02T14:30:11.121198Z",
     "start_time": "2020-04-02T14:29:24.946124Z"
    },
    "scrolled": true
   },
   "outputs": [
    {
     "name": "stdout",
     "output_type": "stream",
     "text": [
      "Shape W0 (46969, 300)\n",
      "Shape W1 (300, 3)\n",
      "Epoch: 1 \t Train Loss: 1.10030\n",
      "Epoch: 1 \t Validation Loss: 1.09861\n",
      "Epoch: 2 \t Train Loss: 1.05851\n",
      "Epoch: 2 \t Validation Loss: 0.84340\n",
      "Epoch: 3 \t Train Loss: 0.91279\n",
      "Epoch: 3 \t Validation Loss: 0.78137\n",
      "Epoch: 4 \t Train Loss: 0.87740\n",
      "Epoch: 4 \t Validation Loss: 0.79018\n",
      "Epoch: 5 \t Train Loss: 0.84549\n",
      "Epoch: 5 \t Validation Loss: 0.72931\n"
     ]
    }
   ],
   "source": [
    "W=network_weights(vocab_size=len(vocab),embedding_dim=300,\n",
    "                    hidden_dim=[], num_classes=3)\n",
    "W[0]=w_glove\n",
    "\n",
    "for i in range(len(W)):\n",
    "    print('Shape W'+str(i), W[i].shape)\n",
    "    \n",
    "W, loss_tr, dev_loss = SGD(X_tr, Y_tr,\n",
    "                            W,\n",
    "                            X_dev=X_dev, \n",
    "                            Y_dev=Y_dev,\n",
    "                            lr=0.001, \n",
    "                            dropout=0.1,\n",
    "                            freeze_emb=True,\n",
    "                            tolerance=1e-6,\n",
    "                            epochs=epochs)"
   ]
  },
  {
   "cell_type": "code",
   "execution_count": 29,
   "metadata": {},
   "outputs": [
    {
     "data": {
      "image/png": "[encoded data removed]",
      "text/plain": [
       "<Figure size 432x288 with 1 Axes>"
      ]
     },
     "metadata": {
      "needs_background": "light"
     },
     "output_type": "display_data"
    }
   ],
   "source": [
    "#plot\n",
    "plot_loss(loss_tr,dev_loss)"
   ]
  },
  {
   "cell_type": "code",
   "execution_count": 30,
   "metadata": {
    "ExecuteTime": {
     "end_time": "2020-04-02T15:12:00.815184Z",
     "start_time": "2020-04-02T15:12:00.812563Z"
    },
    "scrolled": true
   },
   "outputs": [
    {
     "name": "stdout",
     "output_type": "stream",
     "text": [
      "Accuracy: 0.8020022246941045\n",
      "Precision: 0.8210869288508459\n",
      "Recall: 0.8020810107766629\n",
      "F1-Score: 0.8040548886422948\n"
     ]
    }
   ],
   "source": [
    "preds_te = [np.argmax(forward_pass(x, W, dropout_rate=0.0)['y'])+1 \n",
    "            for x,y in zip(X_test,Y_test)]\n",
    "\n",
    "print('Accuracy:', accuracy_score(Y_test,preds_te))\n",
    "print('Precision:', precision_score(Y_test,preds_te,average='macro'))\n",
    "print('Recall:', recall_score(Y_test,preds_te,average='macro'))\n",
    "print('F1-Score:', f1_score(Y_test,preds_te,average='macro'))"
   ]
  },
  {
   "cell_type": "code",
   "execution_count": 31,
   "metadata": {},
   "outputs": [
    {
     "name": "stdout",
     "output_type": "stream",
     "text": [
      "Errors per class: 38 51 89\n"
     ]
    }
   ],
   "source": [
    "#error analysis\n",
    "count_errors(preds_te)"
   ]
  },
  {
   "cell_type": "markdown",
   "metadata": {},
   "source": [
    "### Discuss how did you choose model hyperparameters ? "
   ]
  },
  {
   "cell_type": "markdown",
   "metadata": {
    "scrolled": true
   },
   "source": [
    "ANSWER: Model hyperparameters were chosen via trial and error. A large learning rate of 0.1 to 0.01 does not allow the the model to converge. Similarly, dropout mask size was reduced to avoid underfitting. From the plotting of the train and validation loss, and the few number of epochs, the model may underfit.\n",
    "\n",
    "**Note**: All models were trained for 5 epochs\n",
    "\n",
    "\n",
    "| Learning Rate | Dropout Rate | Accuracy |\n",
    "| --- | --- | --- |\n",
    "| 0.0001 | 0.1 | 0.62068\n",
    "| 0.0001 | 0.2 | 0.41379\n",
    "| 0.001 | 0.1 | 0.80200"
   ]
  },
  {
   "cell_type": "markdown",
   "metadata": {},
   "source": [
    "# Extend to support deeper architectures \n",
    "\n",
    "Extend the network to support back-propagation for more hidden layers. We modify the `backward_pass` function to compute gradients and update the weights between intermediate hidden layers. We also train and evaluate a network with a deeper architecture to test if deeper architectures increase performance."
   ]
  },
  {
   "cell_type": "code",
   "execution_count": 32,
   "metadata": {
    "ExecuteTime": {
     "end_time": "2020-04-02T14:58:51.764619Z",
     "start_time": "2020-04-02T14:58:47.483690Z"
    },
    "scrolled": true
   },
   "outputs": [
    {
     "name": "stdout",
     "output_type": "stream",
     "text": [
      "Shape W0 (46969, 300)\n",
      "Shape W1 (300, 50)\n",
      "Shape W2 (50, 3)\n",
      "Epoch: 1 \t Train Loss: 0.95492\n",
      "Epoch: 1 \t Validation Loss: 0.90049\n",
      "Epoch: 2 \t Train Loss: 0.81113\n",
      "Epoch: 2 \t Validation Loss: 0.82343\n",
      "Epoch: 3 \t Train Loss: 0.75336\n",
      "Epoch: 3 \t Validation Loss: 0.77906\n",
      "Epoch: 4 \t Train Loss: 0.72153\n",
      "Epoch: 4 \t Validation Loss: 0.74675\n",
      "Epoch: 5 \t Train Loss: 0.69175\n",
      "Epoch: 5 \t Validation Loss: 0.65494\n"
     ]
    }
   ],
   "source": [
    "W=network_weights(vocab_size=len(vocab),embedding_dim=300,\n",
    "                    hidden_dim=[50], num_classes=3)\n",
    "W[0]=w_glove\n",
    "\n",
    "for i in range(len(W)):\n",
    "    print('Shape W'+str(i), W[i].shape)\n",
    "\n",
    "W, loss_tr, dev_loss = SGD(X_tr, Y_tr,\n",
    "                            W,\n",
    "                            X_dev=X_dev, \n",
    "                            Y_dev=Y_dev,\n",
    "                            lr=0.0001, \n",
    "                            dropout=0.1,\n",
    "                            freeze_emb=True,\n",
    "                            tolerance=1e-6,\n",
    "                            epochs=epochs)"
   ]
  },
  {
   "cell_type": "code",
   "execution_count": 33,
   "metadata": {},
   "outputs": [
    {
     "data": {
      "image/png": "[encoded data removed]",
      "text/plain": [
       "<Figure size 432x288 with 1 Axes>"
      ]
     },
     "metadata": {
      "needs_background": "light"
     },
     "output_type": "display_data"
    }
   ],
   "source": [
    "#plot\n",
    "plot_loss(loss_tr,dev_loss)"
   ]
  },
  {
   "cell_type": "code",
   "execution_count": 34,
   "metadata": {
    "ExecuteTime": {
     "end_time": "2020-04-02T15:11:51.994986Z",
     "start_time": "2020-04-02T15:11:51.992563Z"
    },
    "scrolled": true
   },
   "outputs": [
    {
     "name": "stdout",
     "output_type": "stream",
     "text": [
      "Accuracy: 0.8264738598442715\n",
      "Precision: 0.8311809551886201\n",
      "Recall: 0.8265068747677443\n",
      "F1-Score: 0.8272040144554834\n"
     ]
    }
   ],
   "source": [
    "preds_te = [np.argmax(forward_pass(x, W, dropout_rate=0.0)['y'])+1 \n",
    "            for x,y in zip(X_test,Y_test)]\n",
    "\n",
    "print('Accuracy:', accuracy_score(Y_test,preds_te))\n",
    "print('Precision:', precision_score(Y_test,preds_te,average='macro'))\n",
    "print('Recall:', recall_score(Y_test,preds_te,average='macro'))\n",
    "print('F1-Score:', f1_score(Y_test,preds_te,average='macro'))"
   ]
  },
  {
   "cell_type": "code",
   "execution_count": 35,
   "metadata": {},
   "outputs": [
    {
     "name": "stdout",
     "output_type": "stream",
     "text": [
      "Errors per class: 43 53 60\n"
     ]
    }
   ],
   "source": [
    "#error analysis\n",
    "count_errors(preds_te)"
   ]
  },
  {
   "cell_type": "markdown",
   "metadata": {},
   "source": [
    "### Discuss how did you choose model hyperparameters ? "
   ]
  },
  {
   "cell_type": "markdown",
   "metadata": {},
   "source": [
    "ANSWER: Model hyperparameters were chosen via trial and error. Increasing the number of nodes in the hidden layers may or may not increase the accuracy. The same goes for the depth of the network. Other hyperparameters were regulated the same way as previous steps. From the plotting of the train and validation loss, and the few number of epochs, the model may underfit.\n",
    "\n",
    "**Note**: All models were trained for 5 epochs\n",
    "\n",
    "| Learning Rate | Dropout Rate | Hidden Dimension Sizes | Accuracy\n",
    "| --- | --- | --- | --- |\n",
    "| 0.0001 | 0.1 | 90 | 0.74749\n",
    "| 0.0001 | 0.2 | 120, 20 | 0.51946\n",
    "| 0.0001 | 0.1 | 50 | 0.82647\n"
   ]
  },
  {
   "cell_type": "markdown",
   "metadata": {},
   "source": [
    "## Full Results\n",
    "\n",
    "Add your final results here:\n",
    "\n",
    "| Model | Precision  | Recall  | F1-Score  | Accuracy\n",
    "|:-:|:-:|:-:|:-:|:-:|\n",
    "| Average Embedding  | 0.86589  | 0.86643  | 0.86563  | 0.85428  | \n",
    "| Average Embedding (Pre-trained)  | 0.82108  | 0.80208  | 0.80405  |  0.80200 |\n",
    "| Average Embedding (Pre-trained) + X hidden layers    | 0.83118  | 0.82650  |  0.82720  |  0.82647 |\n",
    "\n",
    "\n",
    "Why is the best performing model better than the rest? Provide a brief error analaysis."
   ]
  },
  {
   "cell_type": "markdown",
   "metadata": {},
   "source": [
    "**Results Analysis**\n",
    "\n",
    "***Best Performing Model:***\n",
    "From the results obtained above, it can be observed that the optimal value of the hyperparameters vary between model architectures. The best performing model with an accuracy and precision of over 85% does not use pre-trained, frozen embeddings. The reason why its performance is better than the other models may be atributed to the fact that it can adjust its embedding weights accordingly. Additionally, because very few epochs were run, model performance could improve if the model is trained for a longer time. It is important to note that due to contraints on the execution time of the notebook, very large values were not considered while carrying out experiments e.g. for the number of epochs, number of hidden layers and number of nodes per hidden layer.\n",
    "\n",
    "***Error Analysis:***\n",
    "The models appear to misclassify Class 3 and correctly classify Class 1 the most, despite the balance in training and validation data. Misclassifications can be explained by overlapping vocabulary between different classes. For example, a sentence containing the ngrams 'economy',  'sales', and 'billion' was misclassified as *Class 3 - Economy* instead of *Class 1 - Politics*. And sentences containing words like 'olympic', 'tournament', 'basketball' and 'quarterfinal' were incorrectly predicted as *Class 2 - Sports* as opposed to *Class 1 - Politics*. In such cases, it is clear where errors arise from. "
   ]
  },
  {
   "cell_type": "code",
   "execution_count": null,
   "metadata": {},
   "outputs": [],
   "source": []
  }
 ],
 "metadata": {
  "kernelspec": {
   "display_name": "Python 3",
   "language": "python",
   "name": "python3"
  },
  "language_info": {
   "codemirror_mode": {
    "name": "ipython",
    "version": 3
   },
   "file_extension": ".py",
   "mimetype": "text/x-python",
   "name": "python",
   "nbconvert_exporter": "python",
   "pygments_lexer": "ipython3",
   "version": "3.9.18"
  }
 },
 "nbformat": 4,
 "nbformat_minor": 4
}
